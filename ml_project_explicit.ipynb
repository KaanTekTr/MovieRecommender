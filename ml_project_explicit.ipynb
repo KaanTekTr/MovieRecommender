{
  "cells": [
    {
      "cell_type": "code",
      "execution_count": 1,
      "metadata": {
        "id": "cLzDBvNFT1-M"
      },
      "outputs": [],
      "source": [
        "import numpy as np\n",
        "import pandas as pd\n",
        "from sklearn.model_selection import train_test_split\n",
        "import torch.nn as nn\n",
        "import matplotlib.pyplot as plt\n",
        "import seaborn as sns\n",
        "import pytorch_lightning as pl\n",
        "from tqdm.notebook import tqdm\n",
        "np.random.seed(123)"
      ]
    },
    {
      "cell_type": "code",
      "execution_count": 2,
      "metadata": {
        "id": "aVoYytKBWx4g"
      },
      "outputs": [
        {
          "name": "stderr",
          "output_type": "stream",
          "text": [
            "/var/folders/t4/fg4c270s6mb6t8z6cg5ct78c0000gn/T/ipykernel_1454/133746022.py:2: UserWarning: Could not infer format, so each element will be parsed individually, falling back to `dateutil`. To ensure parsing is consistent and as-expected, please specify a format.\n",
            "  X_data = pd.read_csv('ratings.csv', parse_dates=['timestamp'])\n"
          ]
        }
      ],
      "source": [
        "# read csv and parse date-times into Pandas Timestamp object\n",
        "X_data = pd.read_csv('ratings.csv', parse_dates=['timestamp'])"
      ]
    },
    {
      "cell_type": "code",
      "execution_count": 3,
      "metadata": {
        "colab": {
          "base_uri": "https://localhost:8080/"
        },
        "id": "LBwx7vZHr2eX",
        "outputId": "227a365c-4166-484a-fc4e-d8e75344db0c"
      },
      "outputs": [
        {
          "data": {
            "text/plain": [
              "(26024289, 4)"
            ]
          },
          "execution_count": 3,
          "metadata": {},
          "output_type": "execute_result"
        }
      ],
      "source": [
        "# we have approximately 26 million of rating data\n",
        "X_data.shape"
      ]
    },
    {
      "attachments": {},
      "cell_type": "markdown",
      "metadata": {
        "id": "Cbrr1SvXwrwg"
      },
      "source": [
        "# Preprocessing"
      ]
    },
    {
      "cell_type": "code",
      "execution_count": 4,
      "metadata": {
        "id": "feINcgwZ5nhP"
      },
      "outputs": [],
      "source": [
        "# count unique user ids, there are 270896 of them\n",
        "user_counts = X_data['userId'].value_counts() "
      ]
    },
    {
      "attachments": {},
      "cell_type": "markdown",
      "metadata": {
        "id": "1y9AJG0K5R8I"
      },
      "source": [
        "We have a very huge amount of data (total of 26 million rows). We might want to get rid of those that do not give us a lot information. For example, let's see how many of the users have given less than only 20 ratings in total"
      ]
    },
    {
      "cell_type": "code",
      "execution_count": 5,
      "metadata": {
        "colab": {
          "base_uri": "https://localhost:8080/",
          "height": 406
        },
        "id": "jQKnwiYT5jHS",
        "outputId": "f7240900-eba0-47b8-f421-975bffc818f9"
      },
      "outputs": [
        {
          "data": {
            "image/png": "[encoded data removed]",
            "text/plain": [
              "<Figure size 640x480 with 1 Axes>"
            ]
          },
          "metadata": {},
          "output_type": "display_data"
        }
      ],
      "source": [
        "# let's see the percentage of those in a pie chart\n",
        "user_counts_py = user_counts.values\n",
        "count_bigger = np.count_nonzero(user_counts_py > 20)\n",
        "count_smaller = len(user_counts_py) - count_bigger\n",
        "ls = []\n",
        "ls.append(count_bigger)\n",
        "ls.append(count_smaller)\n",
        "\n",
        "palette_color = sns.color_palette('bright')\n",
        "plt.pie(ls, labels=['Users that have at least 20 ratings', 'less than 20'], colors=palette_color, autopct='%.0f%%')\n",
        "plt.show()"
      ]
    },
    {
      "attachments": {},
      "cell_type": "markdown",
      "metadata": {
        "id": "_TP8PdDI1ATm"
      },
      "source": [
        "Get rid of the users that gave more than 20 ratings in total. By doing this, we\n",
        "\n",
        "\n",
        "*   decrease the training time\n",
        "*   reduce memory requirements\n",
        "*   reduce noise\n",
        "\n",
        "In return, we may lose some information. But even without those users we still have 161497 unique users\n",
        "\n",
        "\n",
        "\n"
      ]
    },
    {
      "cell_type": "code",
      "execution_count": 6,
      "metadata": {
        "colab": {
          "base_uri": "https://localhost:8080/"
        },
        "id": "hxMFs5KM07fR",
        "outputId": "6cfab0b1-7703-448a-b7c9-dedaf88ca271"
      },
      "outputs": [
        {
          "name": "stdout",
          "output_type": "stream",
          "text": [
            "(161497, 2)\n"
          ]
        }
      ],
      "source": [
        "# ids of users with > 20 occurences i.e. > 20 ratings, there are 161497 of them\n",
        "user_ids = user_counts[user_counts > 20].index.tolist() \n",
        "# create a new dataframe to use in the future and keep the original one unchanged\n",
        "# this new dataframe only has the users that gave more than 20 ratings\n",
        "new_X_data = pd.DataFrame({'userId': user_ids, 'count': user_counts[user_counts > 20]})\n",
        "print(new_X_data.shape)"
      ]
    },
    {
      "attachments": {},
      "cell_type": "markdown",
      "metadata": {
        "id": "1IjjfIkq29er"
      },
      "source": [
        "Among the data that we now have at our hands, we will randomly choose %5 of them. This again comes with advantages and disadvantages, but in the end we will be left with around 8000 unique users and a total of over than 1.2 millions of data, which we think is a still significant amount of data\n"
      ]
    },
    {
      "cell_type": "code",
      "execution_count": 7,
      "metadata": {
        "colab": {
          "base_uri": "https://localhost:8080/"
        },
        "id": "eI1CueZoH3-F",
        "outputId": "a2ad68e5-f7c2-4d85-c59c-44cf7e52f7d2"
      },
      "outputs": [
        {
          "name": "stdout",
          "output_type": "stream",
          "text": [
            "There are 1250005 rows of data from 8074 users\n",
            "(1250005, 4)\n"
          ]
        }
      ],
      "source": [
        "np.random.seed(123) # necessary for consistent results\n",
        "# randomly select % 5 of the users to simplify our data\n",
        "rand_userIds = np.random.choice(new_X_data['userId'].unique(), size=int(len(new_X_data['userId'].unique())*0.05),replace=False)\n",
        "# only get the rows of the selected users from the original data,\n",
        "# i.e. combine the selected user ids with the rest of the information: movieId, rating, timestamp\n",
        "new_X_data = X_data.loc[X_data['userId'].isin(rand_userIds)]\n",
        "\n",
        "print('There are {} rows of data from {} users'.format(len(new_X_data), len(rand_userIds)))\n",
        "print(new_X_data.shape)"
      ]
    },
    {
      "cell_type": "code",
      "execution_count": 8,
      "metadata": {
        "colab": {
          "base_uri": "https://localhost:8080/",
          "height": 206
        },
        "id": "eMgfIhvur7Aw",
        "outputId": "1c12f4f9-2fce-4289-f7b3-17eb2c58dcf5"
      },
      "outputs": [
        {
          "data": {
            "text/html": [
              "<div>\n",
              "<style scoped>\n",
              "    .dataframe tbody tr th:only-of-type {\n",
              "        vertical-align: middle;\n",
              "    }\n",
              "\n",
              "    .dataframe tbody tr th {\n",
              "        vertical-align: top;\n",
              "    }\n",
              "\n",
              "    .dataframe thead th {\n",
              "        text-align: right;\n",
              "    }\n",
              "</style>\n",
              "<table border=\"1\" class=\"dataframe\">\n",
              "  <thead>\n",
              "    <tr style=\"text-align: right;\">\n",
              "      <th></th>\n",
              "      <th>userId</th>\n",
              "      <th>movieId</th>\n",
              "      <th>rating</th>\n",
              "      <th>timestamp</th>\n",
              "    </tr>\n",
              "  </thead>\n",
              "  <tbody>\n",
              "    <tr>\n",
              "      <th>204</th>\n",
              "      <td>8</td>\n",
              "      <td>1</td>\n",
              "      <td>4.0</td>\n",
              "      <td>1013443596</td>\n",
              "    </tr>\n",
              "    <tr>\n",
              "      <th>205</th>\n",
              "      <td>8</td>\n",
              "      <td>7</td>\n",
              "      <td>2.0</td>\n",
              "      <td>1013442976</td>\n",
              "    </tr>\n",
              "    <tr>\n",
              "      <th>206</th>\n",
              "      <td>8</td>\n",
              "      <td>44</td>\n",
              "      <td>3.0</td>\n",
              "      <td>1013442518</td>\n",
              "    </tr>\n",
              "    <tr>\n",
              "      <th>207</th>\n",
              "      <td>8</td>\n",
              "      <td>47</td>\n",
              "      <td>4.0</td>\n",
              "      <td>1013443770</td>\n",
              "    </tr>\n",
              "    <tr>\n",
              "      <th>208</th>\n",
              "      <td>8</td>\n",
              "      <td>170</td>\n",
              "      <td>3.0</td>\n",
              "      <td>1013442544</td>\n",
              "    </tr>\n",
              "  </tbody>\n",
              "</table>\n",
              "</div>"
            ],
            "text/plain": [
              "     userId  movieId  rating   timestamp\n",
              "204       8        1     4.0  1013443596\n",
              "205       8        7     2.0  1013442976\n",
              "206       8       44     3.0  1013442518\n",
              "207       8       47     4.0  1013443770\n",
              "208       8      170     3.0  1013442544"
            ]
          },
          "execution_count": 8,
          "metadata": {},
          "output_type": "execute_result"
        }
      ],
      "source": [
        "# let's see our new data\n",
        "new_X_data.head()"
      ]
    },
    {
      "cell_type": "code",
      "execution_count": 9,
      "metadata": {
        "colab": {
          "base_uri": "https://localhost:8080/",
          "height": 449
        },
        "id": "i_JREjBZiv6q",
        "outputId": "edf21bd7-4dc0-460e-cd85-9cb42502aa8d"
      },
      "outputs": [
        {
          "data": {
            "image/png": "[encoded data removed]",
            "text/plain": [
              "<Figure size 640x480 with 1 Axes>"
            ]
          },
          "metadata": {},
          "output_type": "display_data"
        }
      ],
      "source": [
        "# let's plot the ratings given by the users to have a general idea of the image\n",
        "# we will see that vast majority of users gave less than ~700 ratings in total\n",
        "movie_counts = new_X_data['userId'].value_counts(sort=False)\n",
        "my_array = np.arange(len(rand_userIds))\n",
        "zort_df = pd.DataFrame({'User ID': my_array,\n",
        "                       'Number of movies rated': movie_counts})\n",
        "sns.scatterplot(data=zort_df, x=\"User ID\", y=\"Number of movies rated\")\n",
        "plt.show()"
      ]
    },
    {
      "attachments": {},
      "cell_type": "markdown",
      "metadata": {
        "id": "J1F03mDO84TN"
      },
      "source": [
        "# Train - Validation - Test split"
      ]
    },
    {
      "cell_type": "code",
      "execution_count": 10,
      "metadata": {
        "id": "C540KZCs9QKt"
      },
      "outputs": [],
      "source": [
        "# ignore warnings\n",
        "import warnings\n",
        "warnings.filterwarnings('ignore')"
      ]
    },
    {
      "attachments": {},
      "cell_type": "markdown",
      "metadata": {
        "id": "tmj8m_vv-NS8"
      },
      "source": [
        "The most recent review for each user will serve as the test set (i.e., one is left out), the second most recent will serve as the validation set, and the remaining ratings will serve as training set"
      ]
    },
    {
      "cell_type": "code",
      "execution_count": 11,
      "metadata": {
        "id": "MqXVBOg9PANE"
      },
      "outputs": [],
      "source": [
        "# rank the timestamps of ratings for each user, put them in a new column 'rank_latest'\n",
        "# most recent review of that user will have the highest ranking, least recent will have the lowest\n",
        "new_X_data['rank_latest'] = new_X_data.groupby(['userId'])['timestamp'].rank(method='first', ascending=False)"
      ]
    },
    {
      "cell_type": "code",
      "execution_count": 12,
      "metadata": {
        "colab": {
          "base_uri": "https://localhost:8080/",
          "height": 143
        },
        "id": "FtUALmkJZ6fp",
        "outputId": "c6433e0c-ecca-420c-9839-ba79a30a8671"
      },
      "outputs": [
        {
          "data": {
            "text/html": [
              "<div>\n",
              "<style scoped>\n",
              "    .dataframe tbody tr th:only-of-type {\n",
              "        vertical-align: middle;\n",
              "    }\n",
              "\n",
              "    .dataframe tbody tr th {\n",
              "        vertical-align: top;\n",
              "    }\n",
              "\n",
              "    .dataframe thead th {\n",
              "        text-align: right;\n",
              "    }\n",
              "</style>\n",
              "<table border=\"1\" class=\"dataframe\">\n",
              "  <thead>\n",
              "    <tr style=\"text-align: right;\">\n",
              "      <th></th>\n",
              "      <th>userId</th>\n",
              "      <th>movieId</th>\n",
              "      <th>rating</th>\n",
              "      <th>timestamp</th>\n",
              "      <th>rank_latest</th>\n",
              "    </tr>\n",
              "  </thead>\n",
              "  <tbody>\n",
              "    <tr>\n",
              "      <th>204</th>\n",
              "      <td>8</td>\n",
              "      <td>1</td>\n",
              "      <td>4.0</td>\n",
              "      <td>1013443596</td>\n",
              "      <td>46.0</td>\n",
              "    </tr>\n",
              "    <tr>\n",
              "      <th>205</th>\n",
              "      <td>8</td>\n",
              "      <td>7</td>\n",
              "      <td>2.0</td>\n",
              "      <td>1013442976</td>\n",
              "      <td>72.0</td>\n",
              "    </tr>\n",
              "    <tr>\n",
              "      <th>206</th>\n",
              "      <td>8</td>\n",
              "      <td>44</td>\n",
              "      <td>3.0</td>\n",
              "      <td>1013442518</td>\n",
              "      <td>105.0</td>\n",
              "    </tr>\n",
              "  </tbody>\n",
              "</table>\n",
              "</div>"
            ],
            "text/plain": [
              "     userId  movieId  rating   timestamp  rank_latest\n",
              "204       8        1     4.0  1013443596         46.0\n",
              "205       8        7     2.0  1013442976         72.0\n",
              "206       8       44     3.0  1013442518        105.0"
            ]
          },
          "execution_count": 12,
          "metadata": {},
          "output_type": "execute_result"
        }
      ],
      "source": [
        "# let's see first 3 rows as an example\n",
        "new_X_data.head(3)"
      ]
    },
    {
      "cell_type": "code",
      "execution_count": 13,
      "metadata": {
        "id": "VfGH9MUuPGMc"
      },
      "outputs": [],
      "source": [
        "test_ratings = new_X_data[new_X_data['rank_latest'] == 1]\n",
        "valid_ratings = new_X_data[new_X_data['rank_latest'] == 2]\n",
        "train_ratings = new_X_data[new_X_data['rank_latest'] > 2]"
      ]
    },
    {
      "cell_type": "code",
      "execution_count": 14,
      "metadata": {
        "colab": {
          "base_uri": "https://localhost:8080/"
        },
        "id": "rEFqAVuGUzAF",
        "outputId": "daf9887a-9bc1-4b47-9f30-fb932618c77a"
      },
      "outputs": [
        {
          "name": "stdout",
          "output_type": "stream",
          "text": [
            "(1233857, 5)\n",
            "(8074, 5)\n",
            "(8074, 5)\n"
          ]
        }
      ],
      "source": [
        "print(train_ratings.shape) # around 1.2 mil data used for training\n",
        "print(valid_ratings.shape) # around 8000 data used for valdiation\n",
        "print(test_ratings.shape) # arounda 8000 data used for test\n",
        "# these may change later"
      ]
    },
    {
      "cell_type": "code",
      "execution_count": 15,
      "metadata": {
        "id": "VlckXT53PGaT"
      },
      "outputs": [],
      "source": [
        "# drop 'rank_latest' column\n",
        "train_ratings = train_ratings[['userId', 'movieId', 'rating']]\n",
        "valid_ratings = valid_ratings[['userId', 'movieId', 'rating']]\n",
        "test_ratings = test_ratings[['userId', 'movieId', 'rating']]"
      ]
    },
    {
      "cell_type": "code",
      "execution_count": 16,
      "metadata": {
        "id": "ty6ttWZTXjFc"
      },
      "outputs": [],
      "source": [
        "# save them into csv files\n",
        "train_ratings.to_csv('new_train_ratings.csv', index=False)\n",
        "valid_ratings.to_csv('new_valid_ratings.csv', index=False)\n",
        "test_ratings.to_csv('new_test_ratings.csv', index=False)"
      ]
    },
    {
      "cell_type": "code",
      "execution_count": 17,
      "metadata": {
        "colab": {
          "base_uri": "https://localhost:8080/",
          "height": 206
        },
        "id": "UCPgHYRHPSTk",
        "outputId": "98e6a8f6-6f65-4e0c-f1fe-682fcc6e2c84"
      },
      "outputs": [
        {
          "data": {
            "text/html": [
              "<div>\n",
              "<style scoped>\n",
              "    .dataframe tbody tr th:only-of-type {\n",
              "        vertical-align: middle;\n",
              "    }\n",
              "\n",
              "    .dataframe tbody tr th {\n",
              "        vertical-align: top;\n",
              "    }\n",
              "\n",
              "    .dataframe thead th {\n",
              "        text-align: right;\n",
              "    }\n",
              "</style>\n",
              "<table border=\"1\" class=\"dataframe\">\n",
              "  <thead>\n",
              "    <tr style=\"text-align: right;\">\n",
              "      <th></th>\n",
              "      <th>userId</th>\n",
              "      <th>movieId</th>\n",
              "      <th>rating</th>\n",
              "    </tr>\n",
              "  </thead>\n",
              "  <tbody>\n",
              "    <tr>\n",
              "      <th>204</th>\n",
              "      <td>8</td>\n",
              "      <td>1</td>\n",
              "      <td>4.0</td>\n",
              "    </tr>\n",
              "    <tr>\n",
              "      <th>205</th>\n",
              "      <td>8</td>\n",
              "      <td>7</td>\n",
              "      <td>2.0</td>\n",
              "    </tr>\n",
              "    <tr>\n",
              "      <th>206</th>\n",
              "      <td>8</td>\n",
              "      <td>44</td>\n",
              "      <td>3.0</td>\n",
              "    </tr>\n",
              "    <tr>\n",
              "      <th>207</th>\n",
              "      <td>8</td>\n",
              "      <td>47</td>\n",
              "      <td>4.0</td>\n",
              "    </tr>\n",
              "    <tr>\n",
              "      <th>208</th>\n",
              "      <td>8</td>\n",
              "      <td>170</td>\n",
              "      <td>3.0</td>\n",
              "    </tr>\n",
              "  </tbody>\n",
              "</table>\n",
              "</div>"
            ],
            "text/plain": [
              "     userId  movieId  rating\n",
              "204       8        1     4.0\n",
              "205       8        7     2.0\n",
              "206       8       44     3.0\n",
              "207       8       47     4.0\n",
              "208       8      170     3.0"
            ]
          },
          "execution_count": 17,
          "metadata": {},
          "output_type": "execute_result"
        }
      ],
      "source": [
        "# see train data for example\n",
        "train_ratings.head(5)"
      ]
    },
    {
      "attachments": {},
      "cell_type": "markdown",
      "metadata": {
        "id": "G2jGYh9mQ7P0"
      },
      "source": [
        "## Explicit Trial"
      ]
    },
    {
      "cell_type": "code",
      "execution_count": 18,
      "metadata": {
        "colab": {
          "base_uri": "https://localhost:8080/"
        },
        "id": "qeHk5t1PTdZj",
        "outputId": "1dbb05b5-803d-47a1-d51d-1ace01851529"
      },
      "outputs": [
        {
          "name": "stdout",
          "output_type": "stream",
          "text": [
            "270817\n",
            "(20875,)\n"
          ]
        }
      ],
      "source": [
        "num_users = new_X_data['userId'].max()+1\n",
        "num_items = new_X_data['movieId'].max()+1\n",
        "all_movie_IDs = new_X_data['movieId'].unique()\n",
        "print(num_users)\n",
        "print(all_movie_IDs.shape)"
      ]
    },
    {
      "attachments": {},
      "cell_type": "markdown",
      "metadata": {
        "id": "hw7gBY5c8bfp"
      },
      "source": [
        "# With Lightning Explicit"
      ]
    },
    {
      "cell_type": "code",
      "execution_count": 19,
      "metadata": {
        "id": "QQLvZjvVcRNy"
      },
      "outputs": [],
      "source": [
        "import torch\n",
        "from torch.utils.data import Dataset\n",
        "\n",
        "class RatingDataset(Dataset):\n",
        "\n",
        "    # ratings: ratings data (train_ratings for training)\n",
        "    # all_movie_IDs: all unique movieIDs\n",
        "    def __init__(self, ratings):\n",
        "        self.users, self.items, self.labels = torch.tensor(ratings[\"userId\"].values), torch.tensor(ratings[\"movieId\"].values), torch.tensor(ratings[\"rating\"].values)\n",
        "\n",
        "    # get length\n",
        "    def __len__(self):\n",
        "        return len(self.users)\n",
        "  \n",
        "    # get single instance\n",
        "    def __getitem__(self, idx):\n",
        "        return self.users[idx], self.items[idx], self.labels[idx]\n",
        "\n"
      ]
    },
    {
      "cell_type": "code",
      "execution_count": 20,
      "metadata": {},
      "outputs": [],
      "source": [
        "losses = []"
      ]
    },
    {
      "cell_type": "code",
      "execution_count": 21,
      "metadata": {
        "id": "MiFffntqTERZ"
      },
      "outputs": [],
      "source": [
        "from torch.utils.data import DataLoader\n",
        "\n",
        "class ModelWithLightningDOT(pl.LightningModule):\n",
        "\n",
        "    def __init__(self, num_users, num_items, ratings, all_movie_IDs, embd_dimension, layers, lr, batch):\n",
        "        super().__init__()\n",
        "        self.layers = layers\n",
        "        self.lr = lr\n",
        "        self.batch_size = batch\n",
        "        self.user_embedding = nn.Embedding(num_embeddings=num_users, embedding_dim=embd_dimension)\n",
        "        self.item_embedding = nn.Embedding(num_embeddings=num_items, embedding_dim=embd_dimension)\n",
        "        if layers == 2:\n",
        "            self.dense1 = nn.Linear(in_features=16, out_features=64)\n",
        "            self.dense2 = nn.Linear(in_features=64, out_features=32)\n",
        "            self.output = nn.Linear(in_features=32, out_features=1)\n",
        "        elif layers == 3:\n",
        "            self.dense1 = nn.Linear(in_features=16, out_features=64)\n",
        "            self.dense2 = nn.Linear(in_features=64, out_features=32)\n",
        "            self.dense3 = nn.Linear(in_features=32, out_features=16)\n",
        "            self.output = nn.Linear(in_features=16, out_features=1)\n",
        "        \n",
        "        self.training_step_outputs = []\n",
        "        self.ratings = ratings\n",
        "        self.all_movie_IDs = all_movie_IDs\n",
        "\n",
        "    def forward(self, user_input, item_input):\n",
        "        user_embedded = self.user_embedding(user_input)\n",
        "        item_embedded = self.item_embedding(item_input)\n",
        "\n",
        "        tensor = torch.cat([user_embedded, item_embedded], dim=-1)\n",
        "\n",
        "        tensor = nn.ReLU()(self.dense1(tensor))\n",
        "        tensor = nn.ReLU()(self.dense2(tensor))\n",
        "        if self.layers == 3:\n",
        "            tensor = nn.ReLU()(self.dense3(tensor))\n",
        "        \n",
        "        pred = nn.Sigmoid()(self.output(tensor))\n",
        "        pred = (pred * 4) + 1  # Scale the predictions to the range [1, 5]\n",
        "\n",
        "        return pred\n",
        "    \n",
        "    def training_step(self, batch, batch_idx):\n",
        "        user_input, item_input, labels = batch\n",
        "        predicted_labels = self(user_input, item_input)\n",
        "        loss = nn.MSELoss()(predicted_labels, labels.view(-1, 1).float())\n",
        "        self.training_step_outputs.append(loss)\n",
        "        return loss\n",
        "\n",
        "    def on_train_epoch_end(self):\n",
        "        all_preds = torch.stack(self.training_step_outputs)\n",
        "        avg_loss = all_preds.mean()\n",
        "        self.log('avg_train_loss', avg_loss)  # Log the average loss for the epoch\n",
        "        losses.append(avg_loss.item())\n",
        "        print(f\"Epoch: {self.current_epoch+1}/{self.trainer.max_epochs}, Loss: {avg_loss.item()}\")\n",
        "\n",
        "    def configure_optimizers(self):\n",
        "        return torch.optim.Adam(self.parameters(), lr=self.lr)\n",
        "\n",
        "    def train_dataloader(self):\n",
        "        return DataLoader(RatingDataset(self.ratings),\n",
        "                          batch_size=self.batch_size, num_workers=0)\n"
      ]
    },
    {
      "cell_type": "code",
      "execution_count": 22,
      "metadata": {
        "id": "-bOWPyhrYOi3"
      },
      "outputs": [
        {
          "name": "stderr",
          "output_type": "stream",
          "text": [
            "GPU available: True (mps), used: False\n",
            "TPU available: False, using: 0 TPU cores\n",
            "IPU available: False, using: 0 IPUs\n",
            "HPU available: False, using: 0 HPUs\n"
          ]
        },
        {
          "name": "stdout",
          "output_type": "stream",
          "text": [
            "Model with layers: [16, 64], batch_size: 256, lr: 0.001\n"
          ]
        },
        {
          "name": "stderr",
          "output_type": "stream",
          "text": [
            "\n",
            "  | Name           | Type      | Params\n",
            "---------------------------------------------\n",
            "0 | user_embedding | Embedding | 2.2 M \n",
            "1 | item_embedding | Embedding | 1.4 M \n",
            "2 | dense1         | Linear    | 1.1 K \n",
            "3 | dense2         | Linear    | 2.1 K \n",
            "4 | output         | Linear    | 33    \n",
            "---------------------------------------------\n",
            "3.6 M     Trainable params\n",
            "0         Non-trainable params\n",
            "3.6 M     Total params\n",
            "14.320    Total estimated model params size (MB)\n"
          ]
        },
        {
          "name": "stdout",
          "output_type": "stream",
          "text": [
            "Epoch 0: 100%|██████████| 4820/4820 [00:42<00:00, 112.37it/s]Epoch: 1/15, Loss: 1.0513521432876587\n",
            "Epoch 1: 100%|██████████| 4820/4820 [00:42<00:00, 114.01it/s]Epoch: 2/15, Loss: 1.0029237270355225\n",
            "Epoch 2: 100%|██████████| 4820/4820 [00:42<00:00, 114.47it/s]Epoch: 3/15, Loss: 0.9788619875907898\n",
            "Epoch 3: 100%|██████████| 4820/4820 [00:41<00:00, 114.86it/s]Epoch: 4/15, Loss: 0.9631209969520569\n",
            "Epoch 4: 100%|██████████| 4820/4820 [00:42<00:00, 114.62it/s]Epoch: 5/15, Loss: 0.950951337814331\n",
            "Epoch 5: 100%|██████████| 4820/4820 [00:41<00:00, 115.28it/s]Epoch: 6/15, Loss: 0.9406119585037231\n",
            "Epoch 6: 100%|██████████| 4820/4820 [00:42<00:00, 113.75it/s]Epoch: 7/15, Loss: 0.9312810301780701\n",
            "Epoch 7: 100%|██████████| 4820/4820 [00:44<00:00, 108.18it/s]Epoch: 8/15, Loss: 0.9225723743438721\n",
            "Epoch 8: 100%|██████████| 4820/4820 [00:44<00:00, 108.14it/s]Epoch: 9/15, Loss: 0.9143311381340027\n",
            "Epoch 9: 100%|██████████| 4820/4820 [00:50<00:00, 96.15it/s] Epoch: 10/15, Loss: 0.9064388275146484\n",
            "Epoch 10: 100%|██████████| 4820/4820 [00:49<00:00, 96.84it/s]Epoch: 11/15, Loss: 0.8988404870033264\n",
            "Epoch 11: 100%|██████████| 4820/4820 [00:48<00:00, 98.73it/s]Epoch: 12/15, Loss: 0.8915188908576965\n",
            "Epoch 12: 100%|██████████| 4820/4820 [00:47<00:00, 101.88it/s]Epoch: 13/15, Loss: 0.8844683170318604\n",
            "Epoch 13: 100%|██████████| 4820/4820 [00:47<00:00, 101.12it/s]Epoch: 14/15, Loss: 0.877683699131012\n",
            "Epoch 14: 100%|██████████| 4820/4820 [00:48<00:00, 99.97it/s] Epoch: 15/15, Loss: 0.8711662292480469\n"
          ]
        },
        {
          "name": "stderr",
          "output_type": "stream",
          "text": [
            "`Trainer.fit` stopped: `max_epochs=15` reached.\n"
          ]
        },
        {
          "name": "stdout",
          "output_type": "stream",
          "text": [
            "Epoch 14: 100%|██████████| 4820/4820 [00:48<00:00, 99.73it/s]\n",
            "Model with layers: [16, 64], batch_size: 256, lr: 0.01\n"
          ]
        },
        {
          "name": "stderr",
          "output_type": "stream",
          "text": [
            "GPU available: True (mps), used: False\n",
            "TPU available: False, using: 0 TPU cores\n",
            "IPU available: False, using: 0 IPUs\n",
            "HPU available: False, using: 0 HPUs\n",
            "\n",
            "  | Name           | Type      | Params\n",
            "---------------------------------------------\n",
            "0 | user_embedding | Embedding | 2.2 M \n",
            "1 | item_embedding | Embedding | 1.4 M \n",
            "2 | dense1         | Linear    | 1.1 K \n",
            "3 | dense2         | Linear    | 2.1 K \n",
            "4 | output         | Linear    | 33    \n",
            "---------------------------------------------\n",
            "3.6 M     Trainable params\n",
            "0         Non-trainable params\n",
            "3.6 M     Total params\n",
            "14.320    Total estimated model params size (MB)\n"
          ]
        },
        {
          "name": "stdout",
          "output_type": "stream",
          "text": [
            "Epoch 0: 100%|██████████| 4820/4820 [00:46<00:00, 103.53it/s]Epoch: 1/15, Loss: 1.0124132633209229\n",
            "Epoch 1: 100%|██████████| 4820/4820 [00:44<00:00, 109.04it/s]Epoch: 2/15, Loss: 0.9765076041221619\n",
            "Epoch 2: 100%|██████████| 4820/4820 [00:44<00:00, 109.07it/s]Epoch: 3/15, Loss: 0.9407687783241272\n",
            "Epoch 3: 100%|██████████| 4820/4820 [00:45<00:00, 106.81it/s]Epoch: 4/15, Loss: 0.9131278991699219\n",
            "Epoch 4: 100%|██████████| 4820/4820 [00:44<00:00, 107.45it/s]Epoch: 5/15, Loss: 0.8942453861236572\n",
            "Epoch 5: 100%|██████████| 4820/4820 [00:46<00:00, 103.76it/s]Epoch: 6/15, Loss: 0.8788408637046814\n",
            "Epoch 6: 100%|██████████| 4820/4820 [00:50<00:00, 95.65it/s] Epoch: 7/15, Loss: 0.8677168488502502\n",
            "Epoch 7: 100%|██████████| 4820/4820 [00:49<00:00, 96.43it/s]Epoch: 8/15, Loss: 0.8576639890670776\n",
            "Epoch 8: 100%|██████████| 4820/4820 [00:46<00:00, 102.81it/s]Epoch: 9/15, Loss: 0.8496354222297668\n",
            "Epoch 9: 100%|██████████| 4820/4820 [00:49<00:00, 97.63it/s] Epoch: 10/15, Loss: 0.8426012396812439\n",
            "Epoch 10: 100%|██████████| 4820/4820 [00:49<00:00, 96.81it/s] Epoch: 11/15, Loss: 0.836250901222229\n",
            "Epoch 11: 100%|██████████| 4820/4820 [00:54<00:00, 88.93it/s]Epoch: 12/15, Loss: 0.8307151198387146\n",
            "Epoch 12: 100%|██████████| 4820/4820 [00:53<00:00, 90.59it/s]Epoch: 13/15, Loss: 0.825622022151947\n",
            "Epoch 13: 100%|██████████| 4820/4820 [00:52<00:00, 92.47it/s]Epoch: 14/15, Loss: 0.8209509253501892\n",
            "Epoch 14: 100%|██████████| 4820/4820 [00:56<00:00, 85.51it/s]Epoch: 15/15, Loss: 0.8166090250015259\n"
          ]
        },
        {
          "name": "stderr",
          "output_type": "stream",
          "text": [
            "`Trainer.fit` stopped: `max_epochs=15` reached.\n"
          ]
        },
        {
          "name": "stdout",
          "output_type": "stream",
          "text": [
            "Epoch 14: 100%|██████████| 4820/4820 [00:56<00:00, 85.20it/s]"
          ]
        },
        {
          "name": "stderr",
          "output_type": "stream",
          "text": [
            "GPU available: True (mps), used: False\n",
            "TPU available: False, using: 0 TPU cores\n",
            "IPU available: False, using: 0 IPUs\n",
            "HPU available: False, using: 0 HPUs\n",
            "\n",
            "  | Name           | Type      | Params\n",
            "---------------------------------------------\n",
            "0 | user_embedding | Embedding | 2.2 M \n",
            "1 | item_embedding | Embedding | 1.4 M \n",
            "2 | dense1         | Linear    | 1.1 K \n",
            "3 | dense2         | Linear    | 2.1 K \n",
            "4 | output         | Linear    | 33    \n",
            "---------------------------------------------\n",
            "3.6 M     Trainable params\n",
            "0         Non-trainable params\n",
            "3.6 M     Total params\n",
            "14.320    Total estimated model params size (MB)\n"
          ]
        },
        {
          "name": "stdout",
          "output_type": "stream",
          "text": [
            "\n",
            "Model with layers: [16, 64], batch_size: 256, lr: 0.1\n",
            "Epoch 0: 100%|██████████| 4820/4820 [00:50<00:00, 95.87it/s]Epoch: 1/15, Loss: 1.1647919416427612\n",
            "Epoch 1: 100%|██████████| 4820/4820 [00:51<00:00, 94.24it/s]Epoch: 2/15, Loss: 1.1637898683547974\n",
            "Epoch 2: 100%|██████████| 4820/4820 [00:50<00:00, 96.21it/s]Epoch: 3/15, Loss: 1.163455605506897\n",
            "Epoch 3: 100%|██████████| 4820/4820 [00:47<00:00, 102.17it/s]Epoch: 4/15, Loss: 1.1632885932922363\n",
            "Epoch 4: 100%|██████████| 4820/4820 [00:50<00:00, 95.61it/s] Epoch: 5/15, Loss: 1.1631883382797241\n",
            "Epoch 5: 100%|██████████| 4820/4820 [00:46<00:00, 103.63it/s]Epoch: 6/15, Loss: 1.1631214618682861\n",
            "Epoch 6: 100%|██████████| 4820/4820 [00:47<00:00, 102.52it/s]Epoch: 7/15, Loss: 1.1630737781524658\n",
            "Epoch 7: 100%|██████████| 4820/4820 [00:48<00:00, 98.96it/s] Epoch: 8/15, Loss: 1.163037896156311\n",
            "Epoch 8: 100%|██████████| 4820/4820 [00:48<00:00, 99.86it/s] Epoch: 9/15, Loss: 1.1630101203918457\n",
            "Epoch 9: 100%|██████████| 4820/4820 [00:51<00:00, 94.39it/s]Epoch: 10/15, Loss: 1.1629878282546997\n",
            "Epoch 10: 100%|██████████| 4820/4820 [00:49<00:00, 96.88it/s]Epoch: 11/15, Loss: 1.1629695892333984\n",
            "Epoch 11: 100%|██████████| 4820/4820 [00:51<00:00, 93.66it/s]Epoch: 12/15, Loss: 1.162954330444336\n",
            "Epoch 12: 100%|██████████| 4820/4820 [00:52<00:00, 91.98it/s]Epoch: 13/15, Loss: 1.162941575050354\n",
            "Epoch 13: 100%|██████████| 4820/4820 [00:56<00:00, 84.80it/s]Epoch: 14/15, Loss: 1.1629306077957153\n",
            "Epoch 14: 100%|██████████| 4820/4820 [00:55<00:00, 86.96it/s]Epoch: 15/15, Loss: 1.1629210710525513\n"
          ]
        },
        {
          "name": "stderr",
          "output_type": "stream",
          "text": [
            "`Trainer.fit` stopped: `max_epochs=15` reached.\n"
          ]
        },
        {
          "name": "stdout",
          "output_type": "stream",
          "text": [
            "Epoch 14: 100%|██████████| 4820/4820 [00:55<00:00, 86.58it/s]"
          ]
        },
        {
          "name": "stderr",
          "output_type": "stream",
          "text": [
            "GPU available: True (mps), used: False\n",
            "TPU available: False, using: 0 TPU cores\n",
            "IPU available: False, using: 0 IPUs\n",
            "HPU available: False, using: 0 HPUs\n",
            "\n",
            "  | Name           | Type      | Params\n",
            "---------------------------------------------\n",
            "0 | user_embedding | Embedding | 2.2 M \n",
            "1 | item_embedding | Embedding | 1.4 M \n",
            "2 | dense1         | Linear    | 1.1 K \n",
            "3 | dense2         | Linear    | 2.1 K \n",
            "4 | output         | Linear    | 33    \n",
            "---------------------------------------------\n",
            "3.6 M     Trainable params\n",
            "0         Non-trainable params\n",
            "3.6 M     Total params\n",
            "14.320    Total estimated model params size (MB)\n"
          ]
        },
        {
          "name": "stdout",
          "output_type": "stream",
          "text": [
            "\n",
            "Model with layers: [16, 64], batch_size: 512, lr: 0.001\n",
            "Epoch 0: 100%|██████████| 2410/2410 [00:29<00:00, 82.67it/s]Epoch: 1/15, Loss: 1.083650827407837\n",
            "Epoch 1: 100%|██████████| 2410/2410 [00:25<00:00, 95.42it/s]Epoch: 2/15, Loss: 1.0333269834518433\n",
            "Epoch 2: 100%|██████████| 2410/2410 [00:25<00:00, 95.46it/s]Epoch: 3/15, Loss: 1.0048627853393555\n",
            "Epoch 3: 100%|██████████| 2410/2410 [00:25<00:00, 94.11it/s]Epoch: 4/15, Loss: 0.9861218929290771\n",
            "Epoch 4: 100%|██████████| 2410/2410 [00:25<00:00, 95.84it/s]Epoch: 5/15, Loss: 0.9718009233474731\n",
            "Epoch 5: 100%|██████████| 2410/2410 [00:27<00:00, 88.13it/s]Epoch: 6/15, Loss: 0.9596685767173767\n",
            "Epoch 6: 100%|██████████| 2410/2410 [00:31<00:00, 76.41it/s]Epoch: 7/15, Loss: 0.948720395565033\n",
            "Epoch 7: 100%|██████████| 2410/2410 [00:29<00:00, 80.53it/s]Epoch: 8/15, Loss: 0.9384668469429016\n",
            "Epoch 8: 100%|██████████| 2410/2410 [00:30<00:00, 78.84it/s]Epoch: 9/15, Loss: 0.9286719560623169\n",
            "Epoch 9: 100%|██████████| 2410/2410 [00:32<00:00, 75.10it/s]Epoch: 10/15, Loss: 0.9192575812339783\n",
            "Epoch 10: 100%|██████████| 2410/2410 [00:30<00:00, 78.33it/s]Epoch: 11/15, Loss: 0.910178005695343\n",
            "Epoch 11: 100%|██████████| 2410/2410 [00:35<00:00, 68.02it/s]Epoch: 12/15, Loss: 0.9014187455177307\n",
            "Epoch 12: 100%|██████████| 2410/2410 [00:30<00:00, 78.39it/s]Epoch: 13/15, Loss: 0.892985999584198\n",
            "Epoch 13: 100%|██████████| 2410/2410 [00:36<00:00, 65.88it/s]Epoch: 14/15, Loss: 0.8848806619644165\n",
            "Epoch 14: 100%|██████████| 2410/2410 [00:34<00:00, 69.84it/s]Epoch: 15/15, Loss: 0.8771356344223022\n"
          ]
        },
        {
          "name": "stderr",
          "output_type": "stream",
          "text": [
            "`Trainer.fit` stopped: `max_epochs=15` reached.\n"
          ]
        },
        {
          "name": "stdout",
          "output_type": "stream",
          "text": [
            "Epoch 14: 100%|██████████| 2410/2410 [00:34<00:00, 69.53it/s]\n",
            "Model with layers: [16, 64], batch_size: 512, lr: 0.01\n"
          ]
        },
        {
          "name": "stderr",
          "output_type": "stream",
          "text": [
            "GPU available: True (mps), used: False\n",
            "TPU available: False, using: 0 TPU cores\n",
            "IPU available: False, using: 0 IPUs\n",
            "HPU available: False, using: 0 HPUs\n",
            "\n",
            "  | Name           | Type      | Params\n",
            "---------------------------------------------\n",
            "0 | user_embedding | Embedding | 2.2 M \n",
            "1 | item_embedding | Embedding | 1.4 M \n",
            "2 | dense1         | Linear    | 1.1 K \n",
            "3 | dense2         | Linear    | 2.1 K \n",
            "4 | output         | Linear    | 33    \n",
            "---------------------------------------------\n",
            "3.6 M     Trainable params\n",
            "0         Non-trainable params\n",
            "3.6 M     Total params\n",
            "14.320    Total estimated model params size (MB)\n"
          ]
        },
        {
          "name": "stdout",
          "output_type": "stream",
          "text": [
            "Epoch 0: 100%|██████████| 2410/2410 [00:36<00:00, 65.73it/s]Epoch: 1/15, Loss: 1.000665545463562\n",
            "Epoch 1: 100%|██████████| 2410/2410 [00:31<00:00, 76.53it/s]Epoch: 2/15, Loss: 0.9618020057678223\n",
            "Epoch 2: 100%|██████████| 2410/2410 [00:34<00:00, 69.13it/s]Epoch: 3/15, Loss: 0.9291561841964722\n",
            "Epoch 3: 100%|██████████| 2410/2410 [00:28<00:00, 84.53it/s]Epoch: 4/15, Loss: 0.9049314260482788\n",
            "Epoch 4: 100%|██████████| 2410/2410 [00:29<00:00, 80.64it/s]Epoch: 5/15, Loss: 0.8868557214736938\n",
            "Epoch 5: 100%|██████████| 2410/2410 [00:32<00:00, 74.46it/s]Epoch: 6/15, Loss: 0.8731698989868164\n",
            "Epoch 6: 100%|██████████| 2410/2410 [00:30<00:00, 78.52it/s]Epoch: 7/15, Loss: 0.8601264953613281\n",
            "Epoch 7: 100%|██████████| 2410/2410 [00:29<00:00, 80.77it/s]Epoch: 8/15, Loss: 0.8494663834571838\n",
            "Epoch 8: 100%|██████████| 2410/2410 [00:29<00:00, 82.74it/s]Epoch: 9/15, Loss: 0.8402905464172363\n",
            "Epoch 9: 100%|██████████| 2410/2410 [00:29<00:00, 83.04it/s]Epoch: 10/15, Loss: 0.8313835859298706\n",
            "Epoch 10: 100%|██████████| 2410/2410 [00:27<00:00, 87.65it/s]Epoch: 11/15, Loss: 0.8238152861595154\n",
            "Epoch 11: 100%|██████████| 2410/2410 [00:32<00:00, 73.66it/s]Epoch: 12/15, Loss: 0.8166031837463379\n",
            "Epoch 12: 100%|██████████| 2410/2410 [00:32<00:00, 74.41it/s]Epoch: 13/15, Loss: 0.8103432655334473\n",
            "Epoch 13: 100%|██████████| 2410/2410 [00:36<00:00, 65.81it/s]Epoch: 14/15, Loss: 0.8045815825462341\n",
            "Epoch 14: 100%|██████████| 2410/2410 [00:38<00:00, 62.77it/s]Epoch: 15/15, Loss: 0.799494206905365\n"
          ]
        },
        {
          "name": "stderr",
          "output_type": "stream",
          "text": [
            "`Trainer.fit` stopped: `max_epochs=15` reached.\n"
          ]
        },
        {
          "name": "stdout",
          "output_type": "stream",
          "text": [
            "Epoch 14: 100%|██████████| 2410/2410 [00:38<00:00, 62.51it/s]\n",
            "Model with layers: [16, 64], batch_size: 512, lr: 0.1\n"
          ]
        },
        {
          "name": "stderr",
          "output_type": "stream",
          "text": [
            "GPU available: True (mps), used: False\n",
            "TPU available: False, using: 0 TPU cores\n",
            "IPU available: False, using: 0 IPUs\n",
            "HPU available: False, using: 0 HPUs\n",
            "\n",
            "  | Name           | Type      | Params\n",
            "---------------------------------------------\n",
            "0 | user_embedding | Embedding | 2.2 M \n",
            "1 | item_embedding | Embedding | 1.4 M \n",
            "2 | dense1         | Linear    | 1.1 K \n",
            "3 | dense2         | Linear    | 2.1 K \n",
            "4 | output         | Linear    | 33    \n",
            "---------------------------------------------\n",
            "3.6 M     Trainable params\n",
            "0         Non-trainable params\n",
            "3.6 M     Total params\n",
            "14.320    Total estimated model params size (MB)\n"
          ]
        },
        {
          "name": "stdout",
          "output_type": "stream",
          "text": [
            "Epoch 0: 100%|██████████| 2410/2410 [00:29<00:00, 82.36it/s]Epoch: 1/15, Loss: 1.1535412073135376\n",
            "Epoch 1: 100%|██████████| 2410/2410 [00:37<00:00, 64.05it/s]Epoch: 2/15, Loss: 1.1513439416885376\n",
            "Epoch 2: 100%|██████████| 2410/2410 [00:34<00:00, 69.15it/s]Epoch: 3/15, Loss: 1.1505731344223022\n",
            "Epoch 3: 100%|██████████| 2410/2410 [00:36<00:00, 66.53it/s]Epoch: 4/15, Loss: 1.1501877307891846\n",
            "Epoch 4: 100%|██████████| 2410/2410 [00:28<00:00, 83.82it/s]Epoch: 5/15, Loss: 1.1499565839767456\n",
            "Epoch 5: 100%|██████████| 2410/2410 [00:34<00:00, 69.80it/s]Epoch: 6/15, Loss: 1.1498024463653564\n",
            "Epoch 6: 100%|██████████| 2410/2410 [00:35<00:00, 68.73it/s]Epoch: 7/15, Loss: 1.1496922969818115\n",
            "Epoch 7: 100%|██████████| 2410/2410 [00:40<00:00, 59.25it/s]Epoch: 8/15, Loss: 1.1496095657348633\n",
            "Epoch 8: 100%|██████████| 2410/2410 [00:36<00:00, 65.15it/s]Epoch: 9/15, Loss: 1.1495453119277954\n",
            "Epoch 9: 100%|██████████| 2410/2410 [00:36<00:00, 65.60it/s]Epoch: 10/15, Loss: 1.1494940519332886\n",
            "Epoch 10: 100%|██████████| 2410/2410 [00:30<00:00, 79.79it/s]Epoch: 11/15, Loss: 1.1494519710540771\n",
            "Epoch 11: 100%|██████████| 2410/2410 [00:36<00:00, 66.85it/s]Epoch: 12/15, Loss: 1.1494170427322388\n",
            "Epoch 12: 100%|██████████| 2410/2410 [00:32<00:00, 75.21it/s]Epoch: 13/15, Loss: 1.1493873596191406\n",
            "Epoch 13: 100%|██████████| 2410/2410 [00:33<00:00, 71.40it/s]Epoch: 14/15, Loss: 1.1493618488311768\n",
            "Epoch 14: 100%|██████████| 2410/2410 [00:32<00:00, 74.24it/s]"
          ]
        },
        {
          "name": "stderr",
          "output_type": "stream",
          "text": [
            "`Trainer.fit` stopped: `max_epochs=15` reached.\n"
          ]
        },
        {
          "name": "stdout",
          "output_type": "stream",
          "text": [
            "Epoch: 15/15, Loss: 1.1493399143218994\n",
            "Epoch 14: 100%|██████████| 2410/2410 [00:32<00:00, 73.55it/s]"
          ]
        },
        {
          "name": "stderr",
          "output_type": "stream",
          "text": [
            "GPU available: True (mps), used: False\n",
            "TPU available: False, using: 0 TPU cores\n",
            "IPU available: False, using: 0 IPUs\n",
            "HPU available: False, using: 0 HPUs\n",
            "\n",
            "  | Name           | Type      | Params\n",
            "---------------------------------------------\n",
            "0 | user_embedding | Embedding | 2.2 M \n",
            "1 | item_embedding | Embedding | 1.4 M \n",
            "2 | dense1         | Linear    | 1.1 K \n",
            "3 | dense2         | Linear    | 2.1 K \n",
            "4 | dense3         | Linear    | 528   \n",
            "5 | output         | Linear    | 17    \n",
            "---------------------------------------------\n",
            "3.6 M     Trainable params\n",
            "0         Non-trainable params\n",
            "3.6 M     Total params\n",
            "14.322    Total estimated model params size (MB)\n"
          ]
        },
        {
          "name": "stdout",
          "output_type": "stream",
          "text": [
            "\n",
            "Model with layers: [16, 64, 32], batch_size: 256, lr: 0.001\n",
            "Epoch 0: 100%|██████████| 4820/4820 [00:52<00:00, 92.30it/s] Epoch: 1/15, Loss: 1.052037000656128\n",
            "Epoch 1: 100%|██████████| 4820/4820 [00:55<00:00, 86.94it/s]Epoch: 2/15, Loss: 1.0067675113677979\n",
            "Epoch 2: 100%|██████████| 4820/4820 [00:55<00:00, 87.08it/s]Epoch: 3/15, Loss: 0.9827680587768555\n",
            "Epoch 3: 100%|██████████| 4820/4820 [00:53<00:00, 90.53it/s]Epoch: 4/15, Loss: 0.9664599299430847\n",
            "Epoch 4: 100%|██████████| 4820/4820 [00:52<00:00, 91.54it/s]Epoch: 5/15, Loss: 0.9534683227539062\n",
            "Epoch 5: 100%|██████████| 4820/4820 [00:52<00:00, 91.23it/s] Epoch: 6/15, Loss: 0.9421279430389404\n",
            "Epoch 6: 100%|██████████| 4820/4820 [00:58<00:00, 82.02it/s]Epoch: 7/15, Loss: 0.9316989183425903\n",
            "Epoch 7: 100%|██████████| 4820/4820 [00:54<00:00, 87.96it/s]Epoch: 8/15, Loss: 0.921924352645874\n",
            "Epoch 8: 100%|██████████| 4820/4820 [00:57<00:00, 84.55it/s]Epoch: 9/15, Loss: 0.9125807881355286\n",
            "Epoch 9: 100%|██████████| 4820/4820 [00:56<00:00, 85.07it/s] Epoch: 10/15, Loss: 0.9036383032798767\n",
            "Epoch 10: 100%|██████████| 4820/4820 [01:04<00:00, 74.74it/s]Epoch: 11/15, Loss: 0.8950793147087097\n",
            "Epoch 11: 100%|██████████| 4820/4820 [00:55<00:00, 87.00it/s]Epoch: 12/15, Loss: 0.886889636516571\n",
            "Epoch 12: 100%|██████████| 4820/4820 [00:57<00:00, 83.25it/s]Epoch: 13/15, Loss: 0.8790474534034729\n",
            "Epoch 13: 100%|██████████| 4820/4820 [00:56<00:00, 85.95it/s]Epoch: 14/15, Loss: 0.8715542554855347\n",
            "Epoch 14: 100%|██████████| 4820/4820 [00:58<00:00, 82.11it/s]Epoch: 15/15, Loss: 0.864414632320404\n"
          ]
        },
        {
          "name": "stderr",
          "output_type": "stream",
          "text": [
            "`Trainer.fit` stopped: `max_epochs=15` reached.\n"
          ]
        },
        {
          "name": "stdout",
          "output_type": "stream",
          "text": [
            "Epoch 14: 100%|██████████| 4820/4820 [00:58<00:00, 81.79it/s]"
          ]
        },
        {
          "name": "stderr",
          "output_type": "stream",
          "text": [
            "GPU available: True (mps), used: False\n",
            "TPU available: False, using: 0 TPU cores\n",
            "IPU available: False, using: 0 IPUs\n",
            "HPU available: False, using: 0 HPUs\n",
            "\n",
            "  | Name           | Type      | Params\n",
            "---------------------------------------------\n",
            "0 | user_embedding | Embedding | 2.2 M \n",
            "1 | item_embedding | Embedding | 1.4 M \n",
            "2 | dense1         | Linear    | 1.1 K \n",
            "3 | dense2         | Linear    | 2.1 K \n",
            "4 | dense3         | Linear    | 528   \n",
            "5 | output         | Linear    | 17    \n",
            "---------------------------------------------\n",
            "3.6 M     Trainable params\n",
            "0         Non-trainable params\n",
            "3.6 M     Total params\n",
            "14.322    Total estimated model params size (MB)\n"
          ]
        },
        {
          "name": "stdout",
          "output_type": "stream",
          "text": [
            "\n",
            "Model with layers: [16, 64, 32], batch_size: 256, lr: 0.01\n",
            "Epoch 0: 100%|██████████| 4820/4820 [00:52<00:00, 92.39it/s] Epoch: 1/15, Loss: 1.0173949003219604\n",
            "Epoch 1: 100%|██████████| 4820/4820 [01:00<00:00, 80.20it/s]Epoch: 2/15, Loss: 0.9833807349205017\n",
            "Epoch 2: 100%|██████████| 4820/4820 [01:00<00:00, 79.51it/s]Epoch: 3/15, Loss: 0.9535176753997803\n",
            "Epoch 3: 100%|██████████| 4820/4820 [00:55<00:00, 86.30it/s] Epoch: 4/15, Loss: 0.9300116896629333\n",
            "Epoch 4: 100%|██████████| 4820/4820 [00:56<00:00, 84.65it/s]Epoch: 5/15, Loss: 0.9121438264846802\n",
            "Epoch 5: 100%|██████████| 4820/4820 [01:00<00:00, 79.12it/s]Epoch: 6/15, Loss: 0.89719158411026\n",
            "Epoch 6: 100%|██████████| 4820/4820 [01:01<00:00, 78.19it/s]Epoch: 7/15, Loss: 0.8840768933296204\n",
            "Epoch 7: 100%|██████████| 4820/4820 [01:01<00:00, 78.98it/s]Epoch: 8/15, Loss: 0.8732739686965942\n",
            "Epoch 8: 100%|██████████| 4820/4820 [01:14<00:00, 65.10it/s]Epoch: 9/15, Loss: 0.8636365532875061\n",
            "Epoch 9: 100%|██████████| 4820/4820 [01:10<00:00, 68.58it/s]Epoch: 10/15, Loss: 0.8543063402175903\n",
            "Epoch 10: 100%|██████████| 4820/4820 [01:06<00:00, 72.91it/s]Epoch: 11/15, Loss: 0.845747709274292\n",
            "Epoch 11: 100%|██████████| 4820/4820 [01:01<00:00, 78.50it/s]Epoch: 12/15, Loss: 0.8378336429595947\n",
            "Epoch 12: 100%|██████████| 4820/4820 [01:03<00:00, 76.09it/s]Epoch: 13/15, Loss: 0.8306333422660828\n",
            "Epoch 13: 100%|██████████| 4820/4820 [01:09<00:00, 69.15it/s]Epoch: 14/15, Loss: 0.8238519430160522\n",
            "Epoch 14: 100%|██████████| 4820/4820 [01:05<00:00, 73.11it/s]"
          ]
        },
        {
          "name": "stderr",
          "output_type": "stream",
          "text": [
            "`Trainer.fit` stopped: `max_epochs=15` reached.\n"
          ]
        },
        {
          "name": "stdout",
          "output_type": "stream",
          "text": [
            "Epoch: 15/15, Loss: 0.8171711564064026\n",
            "Epoch 14: 100%|██████████| 4820/4820 [01:06<00:00, 72.77it/s]"
          ]
        },
        {
          "name": "stderr",
          "output_type": "stream",
          "text": [
            "GPU available: True (mps), used: False\n",
            "TPU available: False, using: 0 TPU cores\n",
            "IPU available: False, using: 0 IPUs\n",
            "HPU available: False, using: 0 HPUs\n",
            "\n",
            "  | Name           | Type      | Params\n",
            "---------------------------------------------\n",
            "0 | user_embedding | Embedding | 2.2 M \n",
            "1 | item_embedding | Embedding | 1.4 M \n",
            "2 | dense1         | Linear    | 1.1 K \n",
            "3 | dense2         | Linear    | 2.1 K \n",
            "4 | dense3         | Linear    | 528   \n",
            "5 | output         | Linear    | 17    \n",
            "---------------------------------------------\n",
            "3.6 M     Trainable params\n",
            "0         Non-trainable params\n",
            "3.6 M     Total params\n",
            "14.322    Total estimated model params size (MB)\n"
          ]
        },
        {
          "name": "stdout",
          "output_type": "stream",
          "text": [
            "\n",
            "Model with layers: [16, 64, 32], batch_size: 256, lr: 0.1\n",
            "Epoch 0: 100%|██████████| 4820/4820 [00:58<00:00, 81.89it/s]Epoch: 1/15, Loss: 1.1635172367095947\n",
            "Epoch 1: 100%|██████████| 4820/4820 [01:02<00:00, 76.82it/s]Epoch: 2/15, Loss: 1.1631525754928589\n",
            "Epoch 2: 100%|██████████| 4820/4820 [01:05<00:00, 73.65it/s]Epoch: 3/15, Loss: 1.1630308628082275\n",
            "Epoch 3: 100%|██████████| 4820/4820 [01:15<00:00, 63.88it/s]Epoch: 4/15, Loss: 1.1629700660705566\n",
            "Epoch 4: 100%|██████████| 4820/4820 [00:57<00:00, 83.89it/s]Epoch: 5/15, Loss: 1.1629334688186646\n",
            "Epoch 5: 100%|██████████| 4820/4820 [00:53<00:00, 89.68it/s] Epoch: 6/15, Loss: 1.1629090309143066\n",
            "Epoch 6: 100%|██████████| 4820/4820 [00:57<00:00, 83.69it/s]Epoch: 7/15, Loss: 1.1628916263580322\n",
            "Epoch 7: 100%|██████████| 4820/4820 [00:59<00:00, 81.66it/s]Epoch: 8/15, Loss: 1.1628785133361816\n",
            "Epoch 8: 100%|██████████| 4820/4820 [01:03<00:00, 75.64it/s]Epoch: 9/15, Loss: 1.1628684997558594\n",
            "Epoch 9: 100%|██████████| 4820/4820 [01:05<00:00, 74.12it/s]Epoch: 10/15, Loss: 1.1628602743148804\n",
            "Epoch 10: 100%|██████████| 4820/4820 [01:08<00:00, 70.64it/s]Epoch: 11/15, Loss: 1.162853717803955\n",
            "Epoch 11: 100%|██████████| 4820/4820 [01:16<00:00, 62.94it/s]Epoch: 12/15, Loss: 1.1628482341766357\n",
            "Epoch 12: 100%|██████████| 4820/4820 [01:04<00:00, 74.76it/s]Epoch: 13/15, Loss: 1.1628434658050537\n",
            "Epoch 13: 100%|██████████| 4820/4820 [01:02<00:00, 77.47it/s]Epoch: 14/15, Loss: 1.162839412689209\n",
            "Epoch 14: 100%|██████████| 4820/4820 [01:03<00:00, 75.40it/s]"
          ]
        },
        {
          "name": "stderr",
          "output_type": "stream",
          "text": [
            "`Trainer.fit` stopped: `max_epochs=15` reached.\n"
          ]
        },
        {
          "name": "stdout",
          "output_type": "stream",
          "text": [
            "Epoch: 15/15, Loss: 1.1628360748291016\n",
            "Epoch 14: 100%|██████████| 4820/4820 [01:04<00:00, 75.08it/s]"
          ]
        },
        {
          "name": "stderr",
          "output_type": "stream",
          "text": [
            "GPU available: True (mps), used: False\n",
            "TPU available: False, using: 0 TPU cores\n",
            "IPU available: False, using: 0 IPUs\n",
            "HPU available: False, using: 0 HPUs\n",
            "\n",
            "  | Name           | Type      | Params\n",
            "---------------------------------------------\n",
            "0 | user_embedding | Embedding | 2.2 M \n",
            "1 | item_embedding | Embedding | 1.4 M \n",
            "2 | dense1         | Linear    | 1.1 K \n",
            "3 | dense2         | Linear    | 2.1 K \n",
            "4 | dense3         | Linear    | 528   \n",
            "5 | output         | Linear    | 17    \n",
            "---------------------------------------------\n",
            "3.6 M     Trainable params\n",
            "0         Non-trainable params\n",
            "3.6 M     Total params\n",
            "14.322    Total estimated model params size (MB)\n"
          ]
        },
        {
          "name": "stdout",
          "output_type": "stream",
          "text": [
            "\n",
            "Model with layers: [16, 64, 32], batch_size: 512, lr: 0.001\n",
            "Epoch 0: 100%|██████████| 2410/2410 [00:42<00:00, 56.37it/s]Epoch: 1/15, Loss: 1.085517168045044\n",
            "Epoch 1: 100%|██████████| 2410/2410 [00:32<00:00, 74.03it/s]Epoch: 2/15, Loss: 1.029282569885254\n",
            "Epoch 2: 100%|██████████| 2410/2410 [00:37<00:00, 64.96it/s]Epoch: 3/15, Loss: 1.0003390312194824\n",
            "Epoch 3: 100%|██████████| 2410/2410 [00:35<00:00, 67.14it/s]Epoch: 4/15, Loss: 0.982185423374176\n",
            "Epoch 4: 100%|██████████| 2410/2410 [00:40<00:00, 60.06it/s]Epoch: 5/15, Loss: 0.968950092792511\n",
            "Epoch 5: 100%|██████████| 2410/2410 [00:34<00:00, 69.00it/s]Epoch: 6/15, Loss: 0.9582148194313049\n",
            "Epoch 6: 100%|██████████| 2410/2410 [00:45<00:00, 52.64it/s]Epoch: 7/15, Loss: 0.9488065838813782\n",
            "Epoch 7: 100%|██████████| 2410/2410 [00:43<00:00, 55.14it/s]Epoch: 8/15, Loss: 0.940192461013794\n",
            "Epoch 8: 100%|██████████| 2410/2410 [00:44<00:00, 53.73it/s]Epoch: 9/15, Loss: 0.9321300983428955\n",
            "Epoch 9: 100%|██████████| 2410/2410 [00:36<00:00, 65.36it/s]Epoch: 10/15, Loss: 0.9244445562362671\n",
            "Epoch 10: 100%|██████████| 2410/2410 [00:40<00:00, 60.14it/s]Epoch: 11/15, Loss: 0.9170370697975159\n",
            "Epoch 11: 100%|██████████| 2410/2410 [00:37<00:00, 64.85it/s]Epoch: 12/15, Loss: 0.9098542928695679\n",
            "Epoch 12: 100%|██████████| 2410/2410 [00:42<00:00, 57.22it/s]Epoch: 13/15, Loss: 0.9028951525688171\n",
            "Epoch 13: 100%|██████████| 2410/2410 [00:30<00:00, 78.67it/s]Epoch: 14/15, Loss: 0.896147608757019\n",
            "Epoch 14: 100%|██████████| 2410/2410 [00:43<00:00, 55.64it/s]Epoch: 15/15, Loss: 0.8895935416221619\n"
          ]
        },
        {
          "name": "stderr",
          "output_type": "stream",
          "text": [
            "`Trainer.fit` stopped: `max_epochs=15` reached.\n"
          ]
        },
        {
          "name": "stdout",
          "output_type": "stream",
          "text": [
            "Epoch 14: 100%|██████████| 2410/2410 [00:43<00:00, 55.46it/s]\n",
            "Model with layers: [16, 64, 32], batch_size: 512, lr: 0.01\n"
          ]
        },
        {
          "name": "stderr",
          "output_type": "stream",
          "text": [
            "GPU available: True (mps), used: False\n",
            "TPU available: False, using: 0 TPU cores\n",
            "IPU available: False, using: 0 IPUs\n",
            "HPU available: False, using: 0 HPUs\n",
            "\n",
            "  | Name           | Type      | Params\n",
            "---------------------------------------------\n",
            "0 | user_embedding | Embedding | 2.2 M \n",
            "1 | item_embedding | Embedding | 1.4 M \n",
            "2 | dense1         | Linear    | 1.1 K \n",
            "3 | dense2         | Linear    | 2.1 K \n",
            "4 | dense3         | Linear    | 528   \n",
            "5 | output         | Linear    | 17    \n",
            "---------------------------------------------\n",
            "3.6 M     Trainable params\n",
            "0         Non-trainable params\n",
            "3.6 M     Total params\n",
            "14.322    Total estimated model params size (MB)\n"
          ]
        },
        {
          "name": "stdout",
          "output_type": "stream",
          "text": [
            "Epoch 0: 100%|██████████| 2410/2410 [00:36<00:00, 66.44it/s]Epoch: 1/15, Loss: 1.001234769821167\n",
            "Epoch 1: 100%|██████████| 2410/2410 [00:32<00:00, 73.07it/s]Epoch: 2/15, Loss: 0.9583514332771301\n",
            "Epoch 2: 100%|██████████| 2410/2410 [00:34<00:00, 69.87it/s]Epoch: 3/15, Loss: 0.9241743683815002\n",
            "Epoch 3: 100%|██████████| 2410/2410 [00:38<00:00, 62.11it/s]Epoch: 4/15, Loss: 0.8977279663085938\n",
            "Epoch 4: 100%|██████████| 2410/2410 [00:34<00:00, 70.43it/s]Epoch: 5/15, Loss: 0.8782562613487244\n",
            "Epoch 5: 100%|██████████| 2410/2410 [00:38<00:00, 63.17it/s]Epoch: 6/15, Loss: 0.8637875914573669\n",
            "Epoch 6: 100%|██████████| 2410/2410 [00:33<00:00, 71.48it/s]Epoch: 7/15, Loss: 0.8516581058502197\n",
            "Epoch 7: 100%|██████████| 2410/2410 [00:42<00:00, 57.26it/s]Epoch: 8/15, Loss: 0.8411762714385986\n",
            "Epoch 8: 100%|██████████| 2410/2410 [00:30<00:00, 79.88it/s]Epoch: 9/15, Loss: 0.8317328095436096\n",
            "Epoch 9: 100%|██████████| 2410/2410 [00:43<00:00, 55.49it/s]Epoch: 10/15, Loss: 0.8233320713043213\n",
            "Epoch 10: 100%|██████████| 2410/2410 [00:31<00:00, 77.26it/s]Epoch: 11/15, Loss: 0.815704882144928\n",
            "Epoch 11: 100%|██████████| 2410/2410 [00:42<00:00, 56.54it/s]Epoch: 12/15, Loss: 0.8086749315261841\n",
            "Epoch 12: 100%|██████████| 2410/2410 [00:30<00:00, 78.99it/s]Epoch: 13/15, Loss: 0.8025256991386414\n",
            "Epoch 13: 100%|██████████| 2410/2410 [00:41<00:00, 57.56it/s]Epoch: 14/15, Loss: 0.7968218326568604\n",
            "Epoch 14: 100%|██████████| 2410/2410 [00:30<00:00, 78.62it/s]Epoch: 15/15, Loss: 0.791500985622406\n"
          ]
        },
        {
          "name": "stderr",
          "output_type": "stream",
          "text": [
            "`Trainer.fit` stopped: `max_epochs=15` reached.\n"
          ]
        },
        {
          "name": "stdout",
          "output_type": "stream",
          "text": [
            "Epoch 14: 100%|██████████| 2410/2410 [00:30<00:00, 78.24it/s]\n",
            "Model with layers: [16, 64, 32], batch_size: 512, lr: 0.1\n"
          ]
        },
        {
          "name": "stderr",
          "output_type": "stream",
          "text": [
            "GPU available: True (mps), used: False\n",
            "TPU available: False, using: 0 TPU cores\n",
            "IPU available: False, using: 0 IPUs\n",
            "HPU available: False, using: 0 HPUs\n",
            "\n",
            "  | Name           | Type      | Params\n",
            "---------------------------------------------\n",
            "0 | user_embedding | Embedding | 2.2 M \n",
            "1 | item_embedding | Embedding | 1.4 M \n",
            "2 | dense1         | Linear    | 1.1 K \n",
            "3 | dense2         | Linear    | 2.1 K \n",
            "4 | dense3         | Linear    | 528   \n",
            "5 | output         | Linear    | 17    \n",
            "---------------------------------------------\n",
            "3.6 M     Trainable params\n",
            "0         Non-trainable params\n",
            "3.6 M     Total params\n",
            "14.322    Total estimated model params size (MB)\n"
          ]
        },
        {
          "name": "stdout",
          "output_type": "stream",
          "text": [
            "Epoch 0: 100%|██████████| 2410/2410 [00:32<00:00, 73.37it/s]Epoch: 1/15, Loss: 1.1504621505737305\n",
            "Epoch 1: 100%|██████████| 2410/2410 [00:37<00:00, 64.83it/s]Epoch: 2/15, Loss: 1.1497447490692139\n",
            "Epoch 2: 100%|██████████| 2410/2410 [00:32<00:00, 74.35it/s]Epoch: 3/15, Loss: 1.1495070457458496\n",
            "Epoch 3: 100%|██████████| 2410/2410 [00:36<00:00, 66.12it/s]Epoch: 4/15, Loss: 1.1493879556655884\n",
            "Epoch 4: 100%|██████████| 2410/2410 [00:33<00:00, 72.14it/s]Epoch: 5/15, Loss: 1.1493167877197266\n",
            "Epoch 5: 100%|██████████| 2410/2410 [00:37<00:00, 63.57it/s]Epoch: 6/15, Loss: 1.1492691040039062\n",
            "Epoch 6: 100%|██████████| 2410/2410 [00:34<00:00, 70.33it/s]Epoch: 7/15, Loss: 1.1492352485656738\n",
            "Epoch 7: 100%|██████████| 2410/2410 [00:38<00:00, 63.25it/s]Epoch: 8/15, Loss: 1.14920973777771\n",
            "Epoch 8: 100%|██████████| 2410/2410 [00:34<00:00, 69.50it/s]Epoch: 9/15, Loss: 1.1491899490356445\n",
            "Epoch 9: 100%|██████████| 2410/2410 [00:39<00:00, 60.48it/s]Epoch: 10/15, Loss: 1.1491740942001343\n",
            "Epoch 10: 100%|██████████| 2410/2410 [00:34<00:00, 68.96it/s]Epoch: 11/15, Loss: 1.1491612195968628\n",
            "Epoch 11: 100%|██████████| 2410/2410 [00:38<00:00, 61.82it/s]Epoch: 12/15, Loss: 1.1491502523422241\n",
            "Epoch 12: 100%|██████████| 2410/2410 [00:34<00:00, 68.96it/s]Epoch: 13/15, Loss: 1.1491413116455078\n",
            "Epoch 13: 100%|██████████| 2410/2410 [00:39<00:00, 61.59it/s]Epoch: 14/15, Loss: 1.149133324623108\n",
            "Epoch 14: 100%|██████████| 2410/2410 [00:34<00:00, 70.50it/s]Epoch: 15/15, Loss: 1.1491265296936035\n"
          ]
        },
        {
          "name": "stderr",
          "output_type": "stream",
          "text": [
            "`Trainer.fit` stopped: `max_epochs=15` reached.\n"
          ]
        },
        {
          "name": "stdout",
          "output_type": "stream",
          "text": [
            "Epoch 14: 100%|██████████| 2410/2410 [00:34<00:00, 70.04it/s]\n"
          ]
        }
      ],
      "source": [
        "num_users = new_X_data['userId'].max() + 1\n",
        "num_items = new_X_data['movieId'].max() + 1\n",
        "all_movie_IDs = new_X_data['movieId'].unique()\n",
        "embd_dimension = 8\n",
        "\n",
        "# Hyperparameters to be tuned\n",
        "hyperparams = {\n",
        "    \"layers\" : [2, 3],\n",
        "    \"batch_sizes\" : [256, 512],\n",
        "    \"alphas\" : [0.001, 0.01, 0.1]\n",
        "}\n",
        "\n",
        "all_models = []\n",
        "for layer in hyperparams[\"layers\"]:\n",
        "    for batch_size in hyperparams[\"batch_sizes\"]:\n",
        "        for alpha in hyperparams[\"alphas\"]:\n",
        "            print(f\"Model with layers: {'[16, 64]' if layer == 2 else '[16, 64, 32]'}, batch_size: {batch_size}, lr: {alpha}\")\n",
        "            model_lightning = ModelWithLightningDOT(num_users, num_items, train_ratings, all_movie_IDs, embd_dimension, layer, alpha, batch_size)\n",
        "            trainer = pl.Trainer(accelerator='cpu', max_epochs=15, logger=False)\n",
        "            trainer.fit(model_lightning)\n",
        "            all_models.append(model_lightning)"
      ]
    },
    {
      "attachments": {},
      "cell_type": "markdown",
      "metadata": {},
      "source": [
        "Evaluate all of them on validation set"
      ]
    },
    {
      "cell_type": "code",
      "execution_count": 23,
      "metadata": {},
      "outputs": [],
      "source": [
        "from sklearn.metrics import mean_absolute_error"
      ]
    },
    {
      "cell_type": "code",
      "execution_count": 24,
      "metadata": {},
      "outputs": [
        {
          "name": "stdout",
          "output_type": "stream",
          "text": [
            "Model with layers: [16, 64], batch_size: 256, learning_rate: 0.001: MAE error is:  0.8319296507307407\n",
            "Model with layers: [16, 64], batch_size: 256, learning_rate: 0.01: MAE error is:  0.886177854842705\n",
            "Model with layers: [16, 64], batch_size: 256, learning_rate: 0.1: MAE error is:  0.8910081743869209\n",
            "Model with layers: [16, 64], batch_size: 512, learning_rate: 0.001: MAE error is:  0.815518949715135\n",
            "Model with layers: [16, 64], batch_size: 512, learning_rate: 0.01: MAE error is:  0.852365618033193\n",
            "Model with layers: [16, 64], batch_size: 512, learning_rate: 0.1: MAE error is:  0.8910081743869209\n",
            "Model with layers: [16, 64, 32], batch_size: 256, learning_rate: 0.001: MAE error is:  0.8081496160515234\n",
            "Model with layers: [16, 64, 32], batch_size: 256, learning_rate: 0.01: MAE error is:  0.8098835769135496\n",
            "Model with layers: [16, 64, 32], batch_size: 256, learning_rate: 0.1: MAE error is:  0.8910081743869209\n",
            "Model with layers: [16, 64, 32], batch_size: 512, learning_rate: 0.001: MAE error is:  0.8174386920980926\n",
            "Model with layers: [16, 64, 32], batch_size: 512, learning_rate: 0.01: MAE error is:  0.8794897200891751\n",
            "Model with layers: [16, 64, 32], batch_size: 512, learning_rate: 0.1: MAE error is:  0.8910081743869209\n"
          ]
        }
      ],
      "source": [
        "alpha_idx = -1\n",
        "users = torch.tensor(valid_ratings['userId'].values)\n",
        "items = torch.tensor(valid_ratings['movieId'].values)\n",
        "ratings = torch.tensor(valid_ratings['rating'].values)\n",
        "\n",
        "for i in range(0, len(all_models)):\n",
        "    alpha_idx += 1\n",
        "    print(f\"Model with layers: {'[16, 64]' if i < 6 else '[16, 64, 32]'}, \", end=\"\")\n",
        "    print(f\"batch_size: {hyperparams['batch_sizes'][0 if i < 3 or (i >= 6 and i <= 8) else 1]}, \", end=\"\")\n",
        "    print(f\"learning_rate: {hyperparams['alphas'][alpha_idx]}: \", end=\"\")\n",
        "    if (i+1) % 3 == 0: alpha_idx = -1\n",
        "    predicted_labels = all_models[i](users, items)\n",
        "    predictions = predicted_labels.detach().numpy()\n",
        "# Convert to nearest 0.5 interval\n",
        "    rounded_pred = np.round(predictions * 2) / 2\n",
        "    error = mean_absolute_error(test_ratings['rating'], rounded_pred)\n",
        "    print(\"MAE error is: \", error)\n"
      ]
    },
    {
      "attachments": {},
      "cell_type": "markdown",
      "metadata": {},
      "source": [
        "BEST MODEL: \n",
        "Model with layers: [16, 64, 32], batch_size: 256, learning_rate: 0.001: MAE error is:  0.8081496160515234 (Due to memory purposes, we could not train 35 epochs which is the epoch number for training)\n"
      ]
    },
    {
      "attachments": {},
      "cell_type": "markdown",
      "metadata": {},
      "source": [
        "Train the best model on train + validation data, and test it on test data fo final results"
      ]
    },
    {
      "cell_type": "code",
      "execution_count": 28,
      "metadata": {},
      "outputs": [],
      "source": [
        "new_train_ratings = pd.concat([train_ratings, valid_ratings])\n",
        "num_users = new_X_data['userId'].max()+1\n",
        "num_items = new_X_data['movieId'].max()+1\n",
        "all_movie_IDs = new_X_data['movieId'].unique()\n",
        "embd_dimension = 8"
      ]
    },
    {
      "cell_type": "code",
      "execution_count": null,
      "metadata": {},
      "outputs": [],
      "source": [
        "losses.clear()\n",
        "layer = 3\n",
        "alpha = 0.001\n",
        "batch_size = 256\n",
        "num_epochs = 35##This much epoch for final model\n",
        "best_model = ModelWithLightningDOT(num_users, num_items, new_train_ratings, all_movie_IDs, embd_dimension, layer, alpha, batch_size)\n",
        "trainer = pl.Trainer(accelerator='cpu', max_epochs=num_epochs, logger=False)\n",
        "trainer.fit(best_model)"
      ]
    },
    {
      "cell_type": "code",
      "execution_count": null,
      "metadata": {},
      "outputs": [],
      "source": [
        "numbers = []\n",
        "for i in range(1, 16):\n",
        "    numbers.append(i)\n",
        "\n",
        "plt.plot(numbers, losses, 'r', label='Training loss')\n",
        "#plt.plot(epochs, val_acc, 'b', label='Validation accuracy')\n",
        "plt.title('Training loss wrt EPOCH for Best Model')\n",
        "plt.legend(loc=0)\n",
        "plt.figure()\n",
        "plt.show()"
      ]
    },
    {
      "attachments": {},
      "cell_type": "markdown",
      "metadata": {},
      "source": [
        "Evaluate the best model"
      ]
    },
    {
      "cell_type": "code",
      "execution_count": null,
      "metadata": {},
      "outputs": [],
      "source": [
        "predicted_labels = best_model(users, items)\n",
        "predictions = predicted_labels.detach().numpy()\n",
        "rounded_pred = np.round(predictions * 2) / 2\n",
        "error = mean_absolute_error(test_ratings['rating'], rounded_pred)\n",
        "print(\"MAE error is: \", error)"
      ]
    }
  ],
  "metadata": {
    "accelerator": "GPU",
    "colab": {
      "gpuType": "T4",
      "provenance": []
    },
    "gpuClass": "standard",
    "kernelspec": {
      "display_name": "Python 3",
      "name": "python3"
    },
    "language_info": {
      "codemirror_mode": {
        "name": "ipython",
        "version": 3
      },
      "file_extension": ".py",
      "mimetype": "text/x-python",
      "name": "python",
      "nbconvert_exporter": "python",
      "pygments_lexer": "ipython3",
      "version": "3.11.3"
    }
  },
  "nbformat": 4,
  "nbformat_minor": 0
}
